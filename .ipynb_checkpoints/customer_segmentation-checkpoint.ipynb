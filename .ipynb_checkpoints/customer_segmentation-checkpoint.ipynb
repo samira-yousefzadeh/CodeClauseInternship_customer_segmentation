{
 "cells": [
  {
   "cell_type": "markdown",
   "id": "62f6dbee",
   "metadata": {},
   "source": [
    "# 🧠 Customer Segmentation Tool"
   ]
  },
  {
   "cell_type": "markdown",
   "id": "d77a3362",
   "metadata": {},
   "source": [
    "## 🔍 Project Overview"
   ]
  },
  {
   "cell_type": "markdown",
   "id": "343c7442",
   "metadata": {},
   "source": [
    "This project is part of the **CodeClause Internship (Golden Level)**. The goal is to develop a **Customer Segmentation Tool** using clustering algorithms. The project also includes designing a **UI for data input**, applying **machine learning (K-Means)** to segment customers based on their behavior, and evaluating the results."
   ]
  },
  {
   "cell_type": "markdown",
   "id": "401371c7",
   "metadata": {},
   "source": [
    "### 📅 Duration"
   ]
  },
  {
   "cell_type": "markdown",
   "id": "b2ab2a16",
   "metadata": {},
   "source": [
    "- **Start Date**: 01 June 2025  \n",
    "- **End Date**: 30 June 2025  \n",
    "- **Assigned to**: Samira Yousefzadeh"
   ]
  },
  {
   "cell_type": "markdown",
   "id": "e343f86a",
   "metadata": {},
   "source": [
    "## 📚 Table of Contents\n",
    "1. [Introduction](#introduction)\n",
    "2. [Importing Libraries](#importing-libraries)\n",
    "3. [Loading Dataset](#loading-dataset)\n",
    "4. [Exploratory Data Analysis](#exploratory-data-analysis)\n",
    "5. [Data Cleaning](#data-cleaning)\n",
    "6. [Feature Engineering](#feature-engineering)\n",
    "7. [Train-Test Split](#train-test-split)\n",
    "8. [Modeling with K-Means](#modeling-with-k-means)\n",
    "9. [Evaluation and Insights](#evaluation-and-insights)\n",
    "10. [Model Saving](#model-saving)\n",
    "11. [Conclusion](#conclusion)"
   ]
  },
  {
   "cell_type": "markdown",
   "id": "b58359bc",
   "metadata": {},
   "source": [
    "## 1. 🧠 Introduction\n",
    "Customer segmentation is a process of dividing customers into groups based on common characteristics. In this project, we’ll use clustering (specifically K-Means) to group similar customers together for better targeting and marketing."
   ]
  },
  {
   "cell_type": "markdown",
   "id": "f639cf89",
   "metadata": {},
   "source": [
    "## 2. 📦 Importing Libraries"
   ]
  },
  {
   "cell_type": "code",
   "execution_count": null,
   "id": "6966dcaa",
   "metadata": {},
   "outputs": [],
   "source": [
    "import pandas as pd\n",
    "import numpy as np\n",
    "import matplotlib.pyplot as plt\n",
    "import seaborn as sns\n",
    "from sklearn.preprocessing import StandardScaler\n",
    "from sklearn.cluster import KMeans\n",
    "from sklearn.decomposition import PCA\n",
    "from sklearn.metrics import silhouette_score\n",
    "import warnings\n",
    "warnings.filterwarnings('ignore')"
   ]
  },
  {
   "cell_type": "code",
   "execution_count": null,
   "id": "a14f956a",
   "metadata": {},
   "outputs": [],
   "source": [
    "# ## 3. 📂 Loading Dataset\n",
    "df = pd.read_csv('Mall_Customers.csv')\n",
    "df.head()"
   ]
  },
  {
   "cell_type": "code",
   "execution_count": null,
   "id": "b0ca5bd3",
   "metadata": {},
   "outputs": [],
   "source": [
    "# ## 4. 📊 Exploratory Data Analysis\n",
    "print(df.info())\n",
    "df.describe()"
   ]
  },
  {
   "cell_type": "code",
   "execution_count": null,
   "id": "3924db37",
   "metadata": {},
   "outputs": [],
   "source": [
    "sns.pairplot(df[['Age', 'Annual Income (k$)', 'Spending Score (1-100)']])\n",
    "plt.show()"
   ]
  },
  {
   "cell_type": "code",
   "execution_count": null,
   "id": "109baf75",
   "metadata": {},
   "outputs": [],
   "source": [
    "plt.figure(figsize=(8,5))\n",
    "sns.heatmap(df.corr(), annot=True, cmap='coolwarm')\n",
    "plt.title('Correlation Matrix')\n",
    "plt.show()"
   ]
  },
  {
   "cell_type": "code",
   "execution_count": null,
   "id": "765e0f91",
   "metadata": {},
   "outputs": [],
   "source": [
    "# ## 5. 🧹 Data Cleaning\n",
    "df.isnull().sum()  # Check for missing values"
   ]
  },
  {
   "cell_type": "code",
   "execution_count": null,
   "id": "36f634f9",
   "metadata": {},
   "outputs": [],
   "source": [
    "# Drop CustomerID for modeling\n",
    "df_model = df.drop('CustomerID', axis=1)"
   ]
  },
  {
   "cell_type": "code",
   "execution_count": null,
   "id": "6fc7e8a5",
   "metadata": {},
   "outputs": [],
   "source": [
    "# ## 6. ⚙️ Feature Engineering\n",
    "# Encode Gender\n",
    "df_model['Gender'] = df_model['Gender'].map({'Male': 0, 'Female': 1})"
   ]
  },
  {
   "cell_type": "code",
   "execution_count": null,
   "id": "7fe62422",
   "metadata": {},
   "outputs": [],
   "source": [
    "# Scaling\n",
    "scaler = StandardScaler()\n",
    "df_scaled = scaler.fit_transform(df_model)"
   ]
  },
  {
   "cell_type": "code",
   "execution_count": null,
   "id": "a2b0f9e3",
   "metadata": {},
   "outputs": [],
   "source": [
    "# ## 7. 🧪 Train-Test Split (Not typical for clustering but useful for visualization/eval)\n",
    "# In clustering, we use all data for unsupervised learning"
   ]
  },
  {
   "cell_type": "code",
   "execution_count": null,
   "id": "17a171e1",
   "metadata": {},
   "outputs": [],
   "source": [
    "# ## 8. 🧩 Modeling with K-Means\n",
    "inertia = []\n",
    "silhouette = []\n",
    "k_range = range(2, 11)\n",
    "\n",
    "for k in k_range:\n",
    "    kmeans = KMeans(n_clusters=k, random_state=42)\n",
    "    kmeans.fit(df_scaled)\n",
    "    inertia.append(kmeans.inertia_)\n",
    "    silhouette.append(silhouette_score(df_scaled, kmeans.labels_))"
   ]
  },
  {
   "cell_type": "code",
   "execution_count": null,
   "id": "10156751",
   "metadata": {},
   "outputs": [],
   "source": [
    "plt.plot(k_range, inertia, marker='o')\n",
    "plt.title('Elbow Method')\n",
    "plt.xlabel('Number of Clusters')\n",
    "plt.ylabel('Inertia')\n",
    "plt.grid(True)\n",
    "plt.show()"
   ]
  },
  {
   "cell_type": "code",
   "execution_count": null,
   "id": "ac7fcd13",
   "metadata": {},
   "outputs": [],
   "source": [
    "plt.plot(k_range, silhouette, marker='s')\n",
    "plt.title('Silhouette Score')\n",
    "plt.xlabel('Number of Clusters')\n",
    "plt.ylabel('Score')\n",
    "plt.grid(True)\n",
    "plt.show()"
   ]
  },
  {
   "cell_type": "code",
   "execution_count": null,
   "id": "ec941cad",
   "metadata": {},
   "outputs": [],
   "source": [
    "# Final KMeans Model\n",
    "kmeans = KMeans(n_clusters=5, random_state=42)\n",
    "kmeans.fit(df_scaled)\n",
    "df['Cluster'] = kmeans.labels_"
   ]
  },
  {
   "cell_type": "code",
   "execution_count": null,
   "id": "600adc72",
   "metadata": {},
   "outputs": [],
   "source": [
    "sns.scatterplot(data=df, x='Annual Income (k$)', y='Spending Score (1-100)', hue='Cluster', palette='tab10')\n",
    "plt.title('Customer Segments')\n",
    "plt.show()"
   ]
  },
  {
   "cell_type": "code",
   "execution_count": null,
   "id": "516b2989",
   "metadata": {},
   "outputs": [],
   "source": [
    "# ## 9. 🧾 Evaluation and Insights\n",
    "cluster_centers = scaler.inverse_transform(kmeans.cluster_centers_)\n",
    "pd.DataFrame(cluster_centers, columns=df_model.columns)"
   ]
  },
  {
   "cell_type": "code",
   "execution_count": null,
   "id": "ad5496a9",
   "metadata": {},
   "outputs": [],
   "source": [
    "# ## 10. 💾 Model Saving\n",
    "import joblib\n",
    "joblib.dump(kmeans, 'kmeans_model.pkl')\n",
    "joblib.dump(scaler, 'scaler.pkl')"
   ]
  },
  {
   "cell_type": "code",
   "execution_count": null,
   "id": "2ae38153",
   "metadata": {},
   "outputs": [],
   "source": [
    "# ## 11. ✅ Conclusion\n",
    "print(\"Successfully built a customer segmentation model using KMeans. Saved model and scaler.\")"
   ]
  }
 ],
 "metadata": {},
 "nbformat": 4,
 "nbformat_minor": 5
}
